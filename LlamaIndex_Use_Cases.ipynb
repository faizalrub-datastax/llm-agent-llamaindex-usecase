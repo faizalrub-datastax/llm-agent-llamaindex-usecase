{
  "cells": [
    {
      "cell_type": "code",
      "source": [
        "!git clone https://github.com/jerryjliu/gpt_index.git"
      ],
      "metadata": {
        "id": "n50n_PTXhwfX"
      },
      "execution_count": null,
      "outputs": []
    },
    {
      "cell_type": "code",
      "execution_count": null,
      "metadata": {
        "id": "B_UJ1jdIaBsw"
      },
      "outputs": [],
      "source": [
        "!pip install llama-index llama_hub wikipedia"
      ]
    },
    {
      "cell_type": "code",
      "execution_count": 3,
      "metadata": {
        "id": "NPFmLmrWhsb1"
      },
      "outputs": [],
      "source": [
        "import os\n",
        "import openai\n",
        "os.environ[\"OPENAI_API_KEY\"] = \"<open-ai-key>\"\n",
        "openai.api_key = os.environ[\"OPENAI_API_KEY\"]"
      ]
    },
    {
      "cell_type": "markdown",
      "metadata": {
        "id": "jL1wjI7StrFg"
      },
      "source": [
        "# Data connectors (LlamaHub)"
      ]
    },
    {
      "cell_type": "code",
      "execution_count": 4,
      "metadata": {
        "id": "bgNV_zwtbO-C"
      },
      "outputs": [],
      "source": [
        "from llama_hub.wikipedia.base import WikipediaReader\n",
        "\n",
        "loader = WikipediaReader()\n",
        "documents = loader.load_data(pages=['Berlin', 'Rome', 'Tokyo', 'Canberra', 'Santiago'])"
      ]
    },
    {
      "cell_type": "markdown",
      "metadata": {
        "id": "c8hSbUjUT4VK"
      },
      "source": [
        "# Basic query functionalities"
      ]
    },
    {
      "cell_type": "code",
      "source": [
        "print(len(documents))"
      ],
      "metadata": {
        "id": "KqpPYQ6CV4vs",
        "outputId": "493620d4-ad1f-45bf-f06d-5c2bbbb07f22",
        "colab": {
          "base_uri": "https://localhost:8080/"
        }
      },
      "execution_count": 5,
      "outputs": [
        {
          "output_type": "stream",
          "name": "stdout",
          "text": [
            "5\n"
          ]
        }
      ]
    },
    {
      "cell_type": "code",
      "source": [
        "print(documents[0])"
      ],
      "metadata": {
        "id": "QhwsaCC8Xcja",
        "outputId": "c6a0ca06-0e05-445b-9622-207ce6f1f841",
        "colab": {
          "base_uri": "https://localhost:8080/"
        }
      },
      "execution_count": 6,
      "outputs": [
        {
          "output_type": "stream",
          "name": "stdout",
          "text": [
            "Doc ID: 1bf24dc0-66fb-44bf-9a34-eec2c8666f78\n",
            "Text: Berlin ( bur-LIN, German: [bɛʁˈliːn] ) is the capital and\n",
            "largest city of Germany by both area and population. Its more than\n",
            "3.85 million inhabitants make it the European Union's most populous\n",
            "city, according to population within city limits. One of Germany's\n",
            "sixteen constituent states, Berlin is surrounded by the State of\n",
            "Brandenburg and contig...\n"
          ]
        }
      ]
    },
    {
      "cell_type": "code",
      "execution_count": 7,
      "metadata": {
        "id": "Goo4yvAnTN_5",
        "colab": {
          "base_uri": "https://localhost:8080/"
        },
        "outputId": "463dd02b-8ffe-4196-ce58-523821c6215b"
      },
      "outputs": [
        {
          "output_type": "stream",
          "name": "stderr",
          "text": [
            "[nltk_data] Downloading package punkt to /tmp/llama_index...\n",
            "[nltk_data]   Unzipping tokenizers/punkt.zip.\n"
          ]
        }
      ],
      "source": [
        "from llama_index import VectorStoreIndex\n",
        "# build an index over these Document objects.\n",
        "index = VectorStoreIndex.from_documents(documents)\n",
        "# you can query an index with the default QueryEngine\n",
        "query_engine = index.as_query_engine()\n",
        "response = query_engine.query(\"How many people live in Berlin\")"
      ]
    },
    {
      "cell_type": "code",
      "execution_count": 8,
      "metadata": {
        "colab": {
          "base_uri": "https://localhost:8080/"
        },
        "id": "NzDGa1dATtyX",
        "outputId": "4ebc3bbb-db07-4c6c-cefa-5e8e05e40ea2"
      },
      "outputs": [
        {
          "output_type": "stream",
          "name": "stdout",
          "text": [
            "Berlin had a population of 3.75 million registered inhabitants at the end of 2018. However, the urban area of Berlin had about 4.5 million inhabitants in 2019, and the functional urban area was home to about 5.2 million people. The entire Berlin-Brandenburg capital region has a population of more than 6 million.\n"
          ]
        }
      ],
      "source": [
        "print(response)"
      ]
    },
    {
      "cell_type": "code",
      "source": [
        "print(type(index))"
      ],
      "metadata": {
        "colab": {
          "base_uri": "https://localhost:8080/"
        },
        "id": "3ERvmShHaM1i",
        "outputId": "d8f64a78-b498-4707-e1a8-9aa64986328f"
      },
      "execution_count": 9,
      "outputs": [
        {
          "output_type": "stream",
          "name": "stdout",
          "text": [
            "<class 'llama_index.indices.vector_store.base.VectorStoreIndex'>\n"
          ]
        }
      ]
    },
    {
      "cell_type": "markdown",
      "metadata": {
        "id": "Ed8v3NF990f6"
      },
      "source": [
        "# Query Multiple Documents:\n",
        "Source: https://gpt-index.readthedocs.io/en/latest/examples/usecases/10q_sub_question.html"
      ]
    },
    {
      "cell_type": "code",
      "execution_count": 10,
      "metadata": {
        "id": "qk9PnvfwCyUz"
      },
      "outputs": [],
      "source": [
        "import nest_asyncio\n",
        "nest_asyncio.apply()"
      ]
    },
    {
      "cell_type": "code",
      "execution_count": 11,
      "metadata": {
        "id": "vogXg-_Y-DHS"
      },
      "outputs": [],
      "source": [
        "from llama_index import SimpleDirectoryReader, LLMPredictor, ServiceContext, VectorStoreIndex\n",
        "from llama_index.response.pprint_utils import pprint_response\n",
        "from langchain import OpenAI\n",
        "\n",
        "from llama_index.tools import QueryEngineTool, ToolMetadata\n",
        "from llama_index.query_engine import SubQuestionQueryEngine"
      ]
    },
    {
      "cell_type": "code",
      "execution_count": 12,
      "metadata": {
        "id": "obFzvbnF95mX"
      },
      "outputs": [],
      "source": [
        "llm_predictor = LLMPredictor(llm=OpenAI(temperature=0, model_name=\"text-davinci-003\", max_tokens=-1, streaming=True))\n",
        "service_context = ServiceContext.from_defaults(llm_predictor=llm_predictor)"
      ]
    },
    {
      "cell_type": "code",
      "execution_count": 13,
      "metadata": {
        "colab": {
          "base_uri": "https://localhost:8080/"
        },
        "id": "WjZyv2CR-MzJ",
        "outputId": "857ff1a4-3c53-4bfd-eff8-e0dffcae2065"
      },
      "outputs": [
        {
          "output_type": "stream",
          "name": "stdout",
          "text": [
            "Collecting pypdf\n",
            "  Downloading pypdf-3.16.2-py3-none-any.whl (276 kB)\n",
            "\u001b[2K     \u001b[90m━━━━━━━━━━━━━━━━━━━━━━━━━━━━━━━━━━━━━━━\u001b[0m \u001b[32m276.3/276.3 kB\u001b[0m \u001b[31m4.2 MB/s\u001b[0m eta \u001b[36m0:00:00\u001b[0m\n",
            "\u001b[?25hInstalling collected packages: pypdf\n",
            "Successfully installed pypdf-3.16.2\n"
          ]
        }
      ],
      "source": [
        "!pip install pypdf"
      ]
    },
    {
      "cell_type": "code",
      "execution_count": 50,
      "metadata": {
        "colab": {
          "base_uri": "https://localhost:8080/"
        },
        "id": "uvF4mfiyES6W",
        "outputId": "137372ab-bc37-4ba2-b2c8-192011a18319"
      },
      "outputs": [
        {
          "output_type": "stream",
          "name": "stdout",
          "text": [
            "gpt_index/docs/examples/data/10q/uber_10q_sept_2022.pdf\n"
          ]
        }
      ],
      "source": [
        "ls gpt_index/docs/examples/data/10q/uber_10q_sept_2022.pdf"
      ]
    },
    {
      "cell_type": "code",
      "execution_count": 16,
      "metadata": {
        "id": "OtAeoSQF97Rx"
      },
      "outputs": [],
      "source": [
        "march_2022 = SimpleDirectoryReader(input_files=[\"gpt_index/docs/examples/data/10q/uber_10q_march_2022.pdf\"]).load_data()\n",
        "june_2022 = SimpleDirectoryReader(input_files=[\"gpt_index/docs/examples/data/10q/uber_10q_june_2022.pdf\"]).load_data()\n",
        "sept_2022 = SimpleDirectoryReader(input_files=[\"gpt_index/docs/examples/data/10q/uber_10q_sept_2022.pdf\"]).load_data()\n"
      ]
    },
    {
      "cell_type": "code",
      "execution_count": 17,
      "metadata": {
        "id": "Uw28Y6fu-3wx"
      },
      "outputs": [],
      "source": [
        "march_index = VectorStoreIndex.from_documents(march_2022)\n",
        "june_index = VectorStoreIndex.from_documents(june_2022)\n",
        "sept_index = VectorStoreIndex.from_documents(sept_2022)"
      ]
    },
    {
      "cell_type": "code",
      "execution_count": 18,
      "metadata": {
        "id": "_HlBCpeB-4Dt"
      },
      "outputs": [],
      "source": [
        "march_engine = march_index.as_query_engine(similarity_top_k=3)\n",
        "june_engine = june_index.as_query_engine(similarity_top_k=3)\n",
        "sept_engine = sept_index.as_query_engine(similarity_top_k=3)"
      ]
    },
    {
      "cell_type": "code",
      "execution_count": 19,
      "metadata": {
        "id": "rd_bZl8E-5j8"
      },
      "outputs": [],
      "source": [
        "query_engine_tools = [\n",
        "    QueryEngineTool(\n",
        "        query_engine=sept_engine,\n",
        "        metadata=ToolMetadata(name='sept_22', description='Provides information about Uber quarterly financials ending September 2022')\n",
        "    ),\n",
        "    QueryEngineTool(\n",
        "        query_engine=june_engine,\n",
        "        metadata=ToolMetadata(name='june_22', description='Provides information about Uber quarterly financials ending June 2022')\n",
        "    ),\n",
        "    QueryEngineTool(\n",
        "        query_engine=march_engine,\n",
        "        metadata=ToolMetadata(name='march_22', description='Provides information about Uber quarterly financials ending March 2022')\n",
        "    ),\n",
        "]"
      ]
    },
    {
      "cell_type": "code",
      "execution_count": 20,
      "metadata": {
        "id": "Q-6Ro7FN-7q4"
      },
      "outputs": [],
      "source": [
        "# Given a query, this query engine `SubQuestionQueryEngine ` will generate a “query plan”\n",
        "# containing sub-queries against sub-documents before synthesizing the final answer.\n",
        "s_engine = SubQuestionQueryEngine.from_defaults(query_engine_tools=query_engine_tools)"
      ]
    },
    {
      "cell_type": "code",
      "execution_count": 21,
      "metadata": {
        "colab": {
          "base_uri": "https://localhost:8080/"
        },
        "id": "87T7bQRd-9lA",
        "outputId": "cb3c809e-8053-480b-92c6-007730abfbde"
      },
      "outputs": [
        {
          "output_type": "stream",
          "name": "stdout",
          "text": [
            "Generated 2 sub questions.\n",
            "\u001b[1;3;38;2;237;90;200m[sept_22] Q: What is the revenue for Uber in the September 2022 quarter?\n",
            "\u001b[0m\u001b[1;3;38;2;90;149;237m[june_22] Q: What is the revenue for Uber in the June 2022 quarter?\n",
            "\u001b[0m\u001b[1;3;38;2;90;149;237m[june_22] A: The revenue for Uber in the June 2022 quarter is $8,073 million.\n",
            "\u001b[0m\u001b[1;3;38;2;237;90;200m[sept_22] A: The revenue for Uber in the September 2022 quarter is $8.3 billion.\n",
            "\u001b[0m"
          ]
        }
      ],
      "source": [
        "response = s_engine.query('Analyze Uber revenue growth over the latest two quarter filings')\n"
      ]
    },
    {
      "cell_type": "code",
      "execution_count": 22,
      "metadata": {
        "colab": {
          "base_uri": "https://localhost:8080/"
        },
        "id": "VxDRYtcK--nb",
        "outputId": "c56dd8b8-77cf-4027-d493-095d93b437a2"
      },
      "outputs": [
        {
          "output_type": "stream",
          "name": "stdout",
          "text": [
            "Uber's revenue has shown growth over the latest two quarter filings. In the September 2022 quarter, the revenue was $8.3 billion, while in the June 2022 quarter, the revenue was $8,073 million. This indicates an increase in revenue between the two quarters.\n"
          ]
        }
      ],
      "source": [
        "print(response)"
      ]
    },
    {
      "cell_type": "markdown",
      "metadata": {
        "id": "qQaqiYCeIPLP"
      },
      "source": [
        "# Router\n",
        "\n",
        "define a custom router query engine that can route to either a SQL database or a vector database.\n",
        "\n",
        "Source: https://gpt-index.readthedocs.io/en/latest/examples/query_engine/SQLRouterQueryEngine.html"
      ]
    },
    {
      "cell_type": "code",
      "execution_count": 23,
      "metadata": {
        "id": "_NM8XlJ5SL4_"
      },
      "outputs": [],
      "source": [
        "import nest_asyncio\n",
        "nest_asyncio.apply()\n",
        "import logging\n",
        "import sys\n",
        "\n",
        "logging.basicConfig(stream=sys.stdout, level=logging.INFO)\n",
        "logging.getLogger().addHandler(logging.StreamHandler(stream=sys.stdout))\n",
        "\n",
        "from llama_index import (\n",
        "    VectorStoreIndex,\n",
        "    SimpleDirectoryReader,\n",
        "    ServiceContext,\n",
        "    StorageContext,\n",
        "    SQLStructStoreIndex,\n",
        "    SQLDatabase,\n",
        "    WikipediaReader\n",
        ")"
      ]
    },
    {
      "cell_type": "code",
      "execution_count": 24,
      "metadata": {
        "colab": {
          "base_uri": "https://localhost:8080/"
        },
        "id": "j7eXvL2-SXH6",
        "outputId": "32b76928-2bd6-4a6a-cefe-f6f55c172dc3"
      },
      "outputs": [
        {
          "output_type": "execute_result",
          "data": {
            "text/plain": [
              "dict_keys(['city_stats'])"
            ]
          },
          "metadata": {},
          "execution_count": 24
        }
      ],
      "source": [
        "# Create Database Schema + Test Data\n",
        "# Here we introduce a toy scenario where there are 100 tables (too big to fit into the prompt)\n",
        "\n",
        "from sqlalchemy import create_engine, MetaData, Table, Column, String, Integer, select, column\n",
        "engine = create_engine(\"sqlite:///:memory:\", future=True)\n",
        "metadata_obj = MetaData()\n",
        "# create city SQL table\n",
        "table_name = \"city_stats\"\n",
        "city_stats_table = Table(\n",
        "    table_name,\n",
        "    metadata_obj,\n",
        "    Column(\"city_name\", String(16), primary_key=True),\n",
        "    Column(\"population\", Integer),\n",
        "    Column(\"country\", String(16), nullable=False),\n",
        ")\n",
        "\n",
        "metadata_obj.create_all(engine)\n",
        "# print tables\n",
        "metadata_obj.tables.keys()\n"
      ]
    },
    {
      "cell_type": "code",
      "execution_count": 25,
      "metadata": {
        "id": "HCyK-KwNSfKu"
      },
      "outputs": [],
      "source": [
        "from sqlalchemy import insert\n",
        "rows = [\n",
        "    {\"city_name\": \"Toronto\", \"population\": 2930000, \"country\": \"Canada\"},\n",
        "    {\"city_name\": \"Tokyo\", \"population\": 13960000, \"country\": \"Japan\"},\n",
        "    {\"city_name\": \"Berlin\", \"population\": 3645000, \"country\": \"Germany\"},\n",
        "]\n",
        "for row in rows:\n",
        "    stmt = insert(city_stats_table).values(**row)\n",
        "    with engine.connect() as connection:\n",
        "        cursor = connection.execute(stmt)\n",
        "        connection.commit()"
      ]
    },
    {
      "cell_type": "code",
      "execution_count": 26,
      "metadata": {
        "colab": {
          "base_uri": "https://localhost:8080/"
        },
        "id": "csoWL2frSnGH",
        "outputId": "7766f710-08e9-4452-f6b3-e12bfb47efd7"
      },
      "outputs": [
        {
          "output_type": "stream",
          "name": "stdout",
          "text": [
            "[('Toronto', 2930000, 'Canada'), ('Tokyo', 13960000, 'Japan'), ('Berlin', 3645000, 'Germany')]\n"
          ]
        }
      ],
      "source": [
        "with engine.connect() as connection:\n",
        "    cursor = connection.exec_driver_sql(\"SELECT * FROM city_stats\")\n",
        "    print(cursor.fetchall())"
      ]
    },
    {
      "cell_type": "code",
      "execution_count": 27,
      "metadata": {
        "id": "rJLGZCHISn33"
      },
      "outputs": [],
      "source": [
        "# Load Data\n",
        "# We first show how to convert a Document into a set of Nodes, and insert into a DocumentStore.\n",
        "cities = ['Toronto', 'Berlin', 'Tokyo']\n",
        "wiki_docs = WikipediaReader().load_data(pages=cities)"
      ]
    },
    {
      "cell_type": "code",
      "execution_count": 28,
      "metadata": {
        "id": "3SSuSCx8Sz5k"
      },
      "outputs": [],
      "source": [
        "# Build SQL Index\n",
        "sql_database = SQLDatabase(engine, include_tables=[\"city_stats\"])\n",
        "sql_index = SQLStructStoreIndex.from_documents(\n",
        "    [],\n",
        "    sql_database=sql_database,\n",
        "    table_name=\"city_stats\",\n",
        ")"
      ]
    },
    {
      "cell_type": "code",
      "execution_count": 29,
      "metadata": {
        "id": "ip_GdJv-S3ah"
      },
      "outputs": [],
      "source": [
        "# Build Vector Index\n",
        "# build a separate vector index per city\n",
        "# You could also choose to define a single vector index across all docs, and annotate each chunk by metadata\n",
        "vector_indices = []\n",
        "for wiki_doc in wiki_docs:\n",
        "    vector_index = VectorStoreIndex.from_documents([wiki_doc])\n",
        "    vector_indices.append(vector_index)"
      ]
    },
    {
      "cell_type": "code",
      "execution_count": 30,
      "metadata": {
        "id": "0pGh81hKS4n4"
      },
      "outputs": [],
      "source": [
        "# Define Query Engines, Set as Tools\n",
        "sql_query_engine = sql_index.as_query_engine()\n",
        "vector_query_engines = [index.as_query_engine() for index in vector_indices]\n",
        "from llama_index.tools.query_engine import QueryEngineTool\n",
        "\n",
        "\n",
        "sql_tool = QueryEngineTool.from_defaults(\n",
        "    query_engine=sql_query_engine,\n",
        "    description=(\n",
        "        'Useful for translating a natural language query into a SQL query over a table containing: '\n",
        "        'city_stats, containing the population/country of each city'\n",
        "    )\n",
        ")\n",
        "vector_tools = []\n",
        "for city, query_engine in zip(cities, vector_query_engines):\n",
        "    vector_tool = QueryEngineTool.from_defaults(\n",
        "        query_engine=query_engine,\n",
        "        description=f'Useful for answering semantic questions about {city}',\n",
        "    )\n",
        "    vector_tools.append(vector_tool)"
      ]
    },
    {
      "cell_type": "code",
      "execution_count": 31,
      "metadata": {
        "id": "C8DbPGr7S9BL"
      },
      "outputs": [],
      "source": [
        "# Define Router Query Engine\n",
        "from llama_index.query_engine.router_query_engine import RouterQueryEngine\n",
        "from llama_index.selectors.llm_selectors import LLMSingleSelector\n",
        "\n",
        "query_engine = RouterQueryEngine(\n",
        "    selector=LLMSingleSelector.from_defaults(),\n",
        "    query_engine_tools=([sql_tool] + vector_tools)\n",
        ")\n",
        "response = query_engine.query('Which city has the highest population?')"
      ]
    },
    {
      "cell_type": "code",
      "execution_count": 32,
      "metadata": {
        "colab": {
          "base_uri": "https://localhost:8080/"
        },
        "id": "z7U9dbyLTFOD",
        "outputId": "b7ab8800-1330-43ec-837a-9a2a5604d9ec"
      },
      "outputs": [
        {
          "output_type": "execute_result",
          "data": {
            "text/plain": [
              "Response(response='The city with the highest population is Tokyo.', source_nodes=[], metadata={'result': [('Tokyo',)], 'sql_query': 'SELECT city_name FROM city_stats ORDER BY population DESC LIMIT 1;'})"
            ]
          },
          "metadata": {},
          "execution_count": 32
        }
      ],
      "source": [
        "response"
      ]
    },
    {
      "cell_type": "code",
      "execution_count": 33,
      "metadata": {
        "colab": {
          "base_uri": "https://localhost:8080/"
        },
        "id": "vucFYIDwTHvJ",
        "outputId": "1162e5f4-ac59-4e28-be9f-c22954d2e9ab"
      },
      "outputs": [
        {
          "output_type": "stream",
          "name": "stdout",
          "text": [
            "The city with the highest population is Tokyo.\n"
          ]
        }
      ],
      "source": [
        "print(str(response))"
      ]
    },
    {
      "cell_type": "code",
      "execution_count": 34,
      "metadata": {
        "id": "ecuSETa6TJpI"
      },
      "outputs": [],
      "source": [
        "response = query_engine.query('Tell me about the historical museums in Berlin')\n"
      ]
    },
    {
      "cell_type": "code",
      "execution_count": 35,
      "metadata": {
        "id": "Kgnn29Q4TLi6",
        "colab": {
          "base_uri": "https://localhost:8080/"
        },
        "outputId": "e5308a06-f5df-4a9a-f630-66c23e856547"
      },
      "outputs": [
        {
          "output_type": "execute_result",
          "data": {
            "text/plain": [
              "Response(response='Berlin is home to a number of historical museums. One of the most notable is the Deutsches Historisches Museum, which reopened in the Zeughaus and provides an overview of German history spanning over a thousand years. The Jewish Museum has a standing exhibition on two millennia of German-Jewish history. The Allied Museum in Dahlem showcases the history of the Allied forces in Berlin during the Cold War. Additionally, the Stasi Museum, located on the grounds of the former East German Ministry for State Security, offers insights into the history of the Stasi and the division of Berlin. These museums provide visitors with a deeper understanding of the historical events and cultural heritage of Berlin.', source_nodes=[NodeWithScore(node=TextNode(id_='16a6aca1-d2ee-4d73-91e8-d09232ab8a31', embedding=None, metadata={}, excluded_embed_metadata_keys=[], excluded_llm_metadata_keys=[], relationships={<NodeRelationship.SOURCE: '1'>: RelatedNodeInfo(node_id='8ba47f6e-1cb5-468e-bd5b-1a6908e84aa6', node_type=None, metadata={}, hash='a4504ce89a382d99c6c5dc5cbfb05a15efeccc25b2015de922a55c4f37ad12a3'), <NodeRelationship.PREVIOUS: '2'>: RelatedNodeInfo(node_id='47c25ff6-6bc6-4df9-9988-3ef23e9aae48', node_type=None, metadata={}, hash='30af362b6db4e679641034ecf7fc4514b1f96dd5c924a9d1ab960646c29a6db5'), <NodeRelationship.NEXT: '3'>: RelatedNodeInfo(node_id='a7520589-598f-48d4-aa5a-d4442a2edf8b', node_type=None, metadata={}, hash='b04427a184639d0a04da7067252e5251c9dea7f4a28972852f331f06e4c212af')}, hash='b022121cad2beeefc9e0b32a1e7ce1c53930f6fa5906d015f0d58da8276868d0', text='=== Galleries and museums ===\\n\\nAs of 2011 Berlin is home to 138 museums and more than 400 art galleries. The ensemble on the Museum Island is a UNESCO World Heritage Site and is in the northern part of the Spree Island between the Spree and the Kupfergraben. As early as 1841 it was designated a \"district dedicated to art and antiquities\" by a royal decree. Subsequently, the Altes Museum was built in the Lustgarten. The Neues Museum, which displays the bust of Queen Nefertiti, Alte Nationalgalerie, Pergamon Museum, and Bode Museum were built there.\\nApart from the Museum Island, there are many additional museums in the city. The Gemäldegalerie (Painting Gallery) focuses on the paintings of the \"old masters\" from the 13th to the 18th centuries, while the Neue Nationalgalerie (New National Gallery, built by Ludwig Mies van der Rohe) specializes in 20th-century European painting. The Hamburger Bahnhof, in Moabit, exhibits a major collection of modern and contemporary art. The expanded Deutsches Historisches Museum reopened in the Zeughaus with an overview of German history spanning more than a millennium. The Bauhaus Archive is a museum of 20th-century design from the famous Bauhaus school. Museum Berggruen houses the collection of noted 20th century collector Heinz Berggruen, and features an extensive assortment of works by Picasso, Matisse, Cézanne, and Giacometti, among others. The Kupferstichkabinett Berlin (Museum of Prints and Drawings) is part of the Staatlichen Museen zu Berlin (Berlin State Museums) and the Kulturforum at Potsdamer Platz in the Tiergarten district of Berlin\\'s Mitte district. It is the largest museum of the graphic arts in Germany and at the same time one of the four most important collections of its kind in the world. The collection includes Friedrich Gilly\\'s design for the monument to Frederick II of Prussia.\\nThe Jewish Museum has a standing exhibition on two millennia of German-Jewish history. The German Museum of Technology in Kreuzberg has a large collection of historical technical artifacts. The Museum für Naturkunde (Berlin\\'s natural history museum) exhibits natural history near Berlin Hauptbahnhof. It has the largest mounted dinosaur in the world (a Giraffatitan skeleton). A well-preserved specimen of Tyrannosaurus rex and the early bird Archaeopteryx are at display as well.In Dahlem, there are several museums of world art and culture, such as the Museum of Asian Art, the Ethnological Museum, the Museum of European Cultures, as well as the Allied Museum. The Brücke Museum features one of the largest collection of works by artist of the early 20th-century expressionist movement. In Lichtenberg, on the grounds of the former East German Ministry for State Security, is the Stasi Museum. The site of Checkpoint Charlie, one of the most renowned crossing points of the Berlin Wall, is still preserved. A private museum venture exhibits a comprehensive documentation of detailed plans and strategies devised by people who tried to flee from the East.\\nThe Beate Uhse Erotic Museum claimed to be the largest erotic museum in the world until it closed in 2014.The cityscape of Berlin displays large quantities of urban street art. It has become a significant part of the city\\'s cultural heritage and has its roots in the graffiti scene of Kreuzberg of the 1980s. The Berlin Wall itself has become one of the largest open-air canvasses in the world. The leftover stretch along the Spree river in Friedrichshain remains as the East Side Gallery. Berlin today is consistently rated as an important world city for street art culture.\\nBerlin has galleries which are quite rich in contemporary art. Located in Mitte, KW Institute for Contemporary Art, KOW, Sprüth Magers; Kreuzberg there are a few galleries as well such as Blain Southern, Esther Schipper, Future Gallery, König Gallerie.', start_char_idx=None, end_char_idx=None, text_template='{metadata_str}\\n\\n{content}', metadata_template='{key}: {value}', metadata_seperator='\\n'), score=0.8849712834067777), NodeWithScore(node=TextNode(id_='e62ed004-6214-44e5-970f-8e5454418ab4', embedding=None, metadata={}, excluded_embed_metadata_keys=[], excluded_llm_metadata_keys=[], relationships={<NodeRelationship.SOURCE: '1'>: RelatedNodeInfo(node_id='8ba47f6e-1cb5-468e-bd5b-1a6908e84aa6', node_type=None, metadata={}, hash='a4504ce89a382d99c6c5dc5cbfb05a15efeccc25b2015de922a55c4f37ad12a3'), <NodeRelationship.PREVIOUS: '2'>: RelatedNodeInfo(node_id='03056e7b-dc0b-45fc-8122-b422849ee39e', node_type=None, metadata={}, hash='e5472f5c67319453bcad6ddc9cd9103631fd2e2490a5b7edd7f7c33114831f04'), <NodeRelationship.NEXT: '3'>: RelatedNodeInfo(node_id='10964b3b-a45d-4c83-ad5d-13b1b6cfc055', node_type=None, metadata={}, hash='f8bb175a217f39afbb2272a891d487f1364ec01f4908860260ad116b4fc0194d')}, hash='0f28d2c11ece120a63323e1738abe072ab27229bc9227b26b04ede4e3f7af742', text=\"=== Cityscape ===\\nBerlin's history has left the city with a polycentric organization and a highly eclectic array of architecture and buildings. The city's appearance today has been predominantly shaped by the key role it played in Germany's history during the 20th century. All of the national governments based in Berlin –  the Kingdom of Prussia, the 2nd German Empire of 1871, the Weimar Republic, Nazi Germany, East Germany, as well as the reunified Germany –  initiated ambitious reconstruction programs, with each adding its own distinctive style to the city's architecture.\\nBerlin was devastated by air raids, fires, and street battles during the Second World War, and many of the buildings that had survived in both East and West were demolished during the postwar period. Much of this demolition was initiated by municipal architecture programs to build new business or residential districts and the main arteries. Much ornamentation on prewar buildings was destroyed following modernist dogmas, and in both postwar systems, as well as in the reunified Berlin, many important heritage structures have been reconstructed, including the Forum Fridericianum along with, the State Opera (1955), Charlottenburg Palace (1957), the monumental buildings on Gendarmenmarkt (1980s), Kommandantur (2003) and also the project to reconstruct the baroque façades of the City Palace. Many new buildings have been inspired by their historical predecessors or the general classical style of Berlin, such as Hotel Adlon.\\nClusters of towers rise at various locations: Potsdamer Platz, the City West, and Alexanderplatz, the latter two delineating the former centers of East and West Berlin, with the first representing a new Berlin of the 21st century, risen from the wastes of no-man's land of the Berlin Wall. Berlin has five of the top 50 tallest buildings in Germany.\\nOver one-third of the city area consists of green space, woodlands, and water. Berlin's second-largest and most popular park, the Großer Tiergarten, is located right in the center of the city. It covers an area of 210 hectares and stretches from Bahnhof Zoo in the City West to the Brandenburg Gate in the east.\\nAmong famous streets, Unter den Linden and Friedrichstraße are found in the city's historic heart (and were included in the former East Berlin). Some major streets in City West are Kurfürstendamm (or just Ku´damm) and Kantstraße.\\n\\n\\n=== Architecture ===\\n\\nThe Fernsehturm (TV tower) at Alexanderplatz in Mitte is among the tallest structures in the European Union at 368 m (1,207 ft). Built in 1969, it is visible throughout most of the central districts of Berlin. The city can be viewed from its 204-meter-high (669 ft) observation floor. Starting here, the Karl-Marx-Allee heads east, an avenue lined by monumental residential buildings, designed in the Socialist Classicism style. Adjacent to this area is the Rotes Rathaus (City Hall), with its distinctive red-brick architecture. In front of it is the Neptunbrunnen, a fountain featuring a mythological group of Tritons, personifications of the four main Prussian rivers, and Neptune on top of it.\\nThe Brandenburg Gate is an iconic landmark of Berlin and Germany; it stands as a symbol of eventful European history and of unity and peace. The Reichstag building is the traditional seat of the German Parliament. It was remodeled by British architect Norman Foster in the 1990s and features a glass dome over the session area, which allows free public access to the parliamentary proceedings and magnificent views of the city.\\nThe East Side Gallery is an open-air exhibition of art painted directly on the last existing portions of the Berlin Wall. It is the largest remaining evidence of the city's historical division.\\nThe Gendarmenmarkt is a neoclassical square in Berlin, the name of which derives from the headquarters of the famous Gens d'armes regiment located here in the 18th century. Two similarly designed cathedrals border it, the Französischer Dom with its observation platform and the Deutscher Dom. The Konzerthaus (Concert Hall), home of the Berlin Symphony Orchestra, stands between the two cathedrals.\\n\\nThe Museum Island in the River Spree houses five museums built from 1830 to 1930 and is a UNESCO World Heritage site. Restoration and construction of a main entrance to all museums, as well as reconstruction of the Stadtschloss continues. Also on the island and next to the Lustgarten and palace is Berlin Cathedral, emperor William II's ambitious attempt to create a Protestant counterpart to St. Peter's Basilica in Rome.\", start_char_idx=None, end_char_idx=None, text_template='{metadata_str}\\n\\n{content}', metadata_template='{key}: {value}', metadata_seperator='\\n'), score=0.8630694737043464)], metadata={'16a6aca1-d2ee-4d73-91e8-d09232ab8a31': {}, 'e62ed004-6214-44e5-970f-8e5454418ab4': {}})"
            ]
          },
          "metadata": {},
          "execution_count": 35
        }
      ],
      "source": [
        "response"
      ]
    },
    {
      "cell_type": "code",
      "execution_count": 36,
      "metadata": {
        "id": "2jol2lIpTMpa",
        "colab": {
          "base_uri": "https://localhost:8080/"
        },
        "outputId": "63b5f8ea-cff8-4d0a-c349-b502bb9d0e91"
      },
      "outputs": [
        {
          "output_type": "stream",
          "name": "stdout",
          "text": [
            "Berlin is home to a number of historical museums. One of the most notable is the Deutsches Historisches Museum, which reopened in the Zeughaus and provides an overview of German history spanning over a thousand years. The Jewish Museum has a standing exhibition on two millennia of German-Jewish history. The Allied Museum in Dahlem showcases the history of the Allied forces in Berlin during the Cold War. Additionally, the Stasi Museum, located on the grounds of the former East German Ministry for State Security, offers insights into the history of the Stasi and the division of Berlin. These museums provide visitors with a deeper understanding of the historical events and cultural heritage of Berlin.\n"
          ]
        }
      ],
      "source": [
        "print(str(response))"
      ]
    }
  ],
  "metadata": {
    "colab": {
      "provenance": []
    },
    "kernelspec": {
      "display_name": "Python 3",
      "name": "python3"
    },
    "language_info": {
      "name": "python"
    }
  },
  "nbformat": 4,
  "nbformat_minor": 0
}